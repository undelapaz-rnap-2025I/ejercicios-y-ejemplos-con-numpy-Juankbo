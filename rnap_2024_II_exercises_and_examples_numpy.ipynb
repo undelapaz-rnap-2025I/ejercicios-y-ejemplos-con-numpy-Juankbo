{
 "cells": [
  {
   "cell_type": "markdown",
   "metadata": {},
   "source": [
    "# Learning and practicing NumPy with examples and exercises"
   ]
  },
  {
   "cell_type": "code",
   "execution_count": 2,
   "metadata": {},
   "outputs": [],
   "source": [
    "import numpy as np\n",
    "import matplotlib.pyplot as plt"
   ]
  },
  {
   "cell_type": "code",
   "execution_count": 3,
   "metadata": {},
   "outputs": [
    {
     "name": "stdout",
     "output_type": "stream",
     "text": [
      "30\n"
     ]
    }
   ],
   "source": [
    "arr = np.array([10, 20, 30, 40, 50])\n",
    "print(arr[2])"
   ]
  },
  {
   "cell_type": "markdown",
   "metadata": {},
   "source": [
    "Elabora una lista y selecciona el elemento ubicado en el tercer puesto."
   ]
  },
  {
   "cell_type": "code",
   "execution_count": 4,
   "metadata": {},
   "outputs": [
    {
     "name": "stdout",
     "output_type": "stream",
     "text": [
      "[20 30 40]\n"
     ]
    }
   ],
   "source": [
    "arr = np.array([10, 20, 30, 40, 50])\n",
    "print(arr[1:4]) "
   ]
  },
  {
   "cell_type": "markdown",
   "metadata": {},
   "source": [
    "Selecciona los elementos que están entre la posición 2 y 5 sin tomar el último elemento"
   ]
  },
  {
   "cell_type": "code",
   "execution_count": 5,
   "metadata": {},
   "outputs": [
    {
     "name": "stdout",
     "output_type": "stream",
     "text": [
      "6\n",
      "2\n"
     ]
    }
   ],
   "source": [
    "arr = np.array([[1, 2, 3], [4, 5, 6], [7, 8, 9]])\n",
    "print(arr[1, 2])\n",
    "print(arr[0,1])"
   ]
  },
  {
   "cell_type": "markdown",
   "metadata": {},
   "source": [
    "El primer número representa la lista y el segundo el elemento a llamar dentro de la lista."
   ]
  },
  {
   "cell_type": "code",
   "execution_count": 6,
   "metadata": {},
   "outputs": [
    {
     "name": "stdout",
     "output_type": "stream",
     "text": [
      "[[3 4]\n",
      " [6 7]]\n"
     ]
    }
   ],
   "source": [
    "arr = np.array([[1, 2, 3, 4], [4, 5, 6, 7], [7, 8, 9, 10]])\n",
    "print(arr[:2, 2:])"
   ]
  },
  {
   "cell_type": "markdown",
   "metadata": {},
   "source": [
    "El :2 indique el intervalo de listas a utilizar y el 1: mostrará los elementos de la lista sin el primer indice."
   ]
  },
  {
   "cell_type": "code",
   "execution_count": 7,
   "metadata": {},
   "outputs": [
    {
     "name": "stdout",
     "output_type": "stream",
     "text": [
      "9\n",
      "[[ 7  8  9]\n",
      " [10 11 12]]\n"
     ]
    }
   ],
   "source": [
    "tensor = np.array([[[1, 2, 3], [4, 5, 6]],\n",
    "[[7, 8, 9], [10, 11, 12]],\n",
    "[[13, 14, 15], [16, 17, 18]]])\n",
    "# Access specific elements\n",
    "print(tensor[1, 0, 2])\n",
    "# Access an entire \"slice\" (2D submatrix)\n",
    "print(tensor[1])"
   ]
  },
  {
   "cell_type": "markdown",
   "metadata": {},
   "source": [
    "El primer argumento selecciona la lista, el segundo selecciona la sublista y el tercero selecciona el elemento a utilizar."
   ]
  },
  {
   "cell_type": "code",
   "execution_count": 8,
   "metadata": {},
   "outputs": [
    {
     "name": "stdout",
     "output_type": "stream",
     "text": [
      "[[0 1 2]\n",
      " [3 4 5]\n",
      " [6 7 8]]\n",
      "[[ 3  4  5]\n",
      " [12 13 14]\n",
      " [21 22 23]]\n",
      "[[ 2  5  8]\n",
      " [11 14 17]\n",
      " [20 23 26]]\n"
     ]
    }
   ],
   "source": [
    "tensor = np.arange(27).reshape(3, 3, 3)\n",
    "# Slice along the first dimension\n",
    "print(tensor[0]) # Output: 3x3 submatrix\n",
    "# Slice along the second dimension\n",
    "print(tensor[:, 1, :]) # Output: 3x3 submatrix\n",
    "# Slice along the third dimension\n",
    "print(tensor[:, :, 2]) # Output: 3x3 submatrix"
   ]
  },
  {
   "cell_type": "markdown",
   "metadata": {},
   "source": [
    "Seleccionar la primera matriz generada a partir de los arguementos dados(número de elementos y en qué arreglo). EL primer argumento llama las listas, el segundo selecciona el indice de cada lista a mostrar y el último los elementos de cada sublista de la listas seleccionadas."
   ]
  },
  {
   "cell_type": "code",
   "execution_count": 9,
   "metadata": {},
   "outputs": [
    {
     "name": "stdout",
     "output_type": "stream",
     "text": [
      "43\n",
      "[[40 41 42 43]\n",
      " [44 45 46 47]]\n"
     ]
    }
   ],
   "source": [
    "tensor = np.arange(48).reshape(2, 3, 2, 4)\n",
    "# Access specific elements\n",
    "print(tensor[1, 2, 0, 3]) # Output: 47\n",
    "# Access a whole \"block\" (3D sub-tensor)\n",
    "print(tensor[1, 2]) # Output: 2x4x3 sub-tensor"
   ]
  },
  {
   "cell_type": "markdown",
   "metadata": {},
   "source": [
    "Se generan dos listas generales, 3 sublistas, 2 listas detro de la sublista y el número de elementos a contener. Luego se especifica el elemento a utilizar y por último se llama de la segunda lista general el segundo indice."
   ]
  },
  {
   "cell_type": "code",
   "execution_count": 10,
   "metadata": {},
   "outputs": [
    {
     "name": "stdout",
     "output_type": "stream",
     "text": [
      "[[[24 25 26 27]\n",
      "  [28 29 30 31]]\n",
      "\n",
      " [[32 33 34 35]\n",
      "  [36 37 38 39]]\n",
      "\n",
      " [[40 41 42 43]\n",
      "  [44 45 46 47]]]\n",
      "--------//--------\n",
      "[[[16 17 18 19]\n",
      "  [20 21 22 23]]\n",
      "\n",
      " [[40 41 42 43]\n",
      "  [44 45 46 47]]]\n"
     ]
    }
   ],
   "source": [
    "tensor = np.arange(48).reshape(2, 3, 2, 4)\n",
    "# Slice along the first dimension\n",
    "print(tensor[1]) # Output: 3x2x4 sub-tensor\n",
    "print(\"--------//--------\")\n",
    "# Slice along the second dimension\n",
    "print(tensor[:, 2, :, :]) # Output: 2x2x4 sub-tensor\n",
    "# Slice along the third dimension\n",
    "#print(tensor[:, :, 0, :]) # Output: 2x3x4 sub-tensor\n"
   ]
  },
  {
   "cell_type": "markdown",
   "metadata": {},
   "source": [
    "Especifica los elementos a utilizar a través de intérvalos (:)."
   ]
  },
  {
   "cell_type": "code",
   "execution_count": 11,
   "metadata": {},
   "outputs": [
    {
     "name": "stdout",
     "output_type": "stream",
     "text": [
      "[[19 22]\n",
      " [43 50]]\n"
     ]
    }
   ],
   "source": [
    "A = np.array([[1, 2], [3, 4]])\n",
    "B = np.array([[5, 6], [7, 8]])\n",
    "result = np.dot(A, B)\n",
    "print(result)\n"
   ]
  },
  {
   "cell_type": "markdown",
   "metadata": {},
   "source": [
    "Multiplicación de matrices (fila x columna)"
   ]
  },
  {
   "cell_type": "code",
   "execution_count": 12,
   "metadata": {},
   "outputs": [
    {
     "name": "stdout",
     "output_type": "stream",
     "text": [
      "[[1 3]\n",
      " [2 4]]\n"
     ]
    }
   ],
   "source": [
    "A = np.array([[1, 2], [3, 4]])\n",
    "result = np.transpose(A)\n",
    "print(result)\n"
   ]
  },
  {
   "cell_type": "markdown",
   "metadata": {},
   "source": [
    "Se obtiene la transpuesta de una matriz"
   ]
  },
  {
   "cell_type": "code",
   "execution_count": 13,
   "metadata": {},
   "outputs": [
    {
     "name": "stdout",
     "output_type": "stream",
     "text": [
      "Determinant: -2.0000000000000004\n",
      "Inverse:\n",
      " [[-2.   1. ]\n",
      " [ 1.5 -0.5]]\n"
     ]
    }
   ],
   "source": [
    "A = np.array([[1, 2], [3, 4]])\n",
    "det = np.linalg.det(A)\n",
    "inverse = np.linalg.inv(A)\n",
    "print(\"Determinant:\", det)\n",
    "print(\"Inverse:\\n\", inverse)"
   ]
  },
  {
   "cell_type": "markdown",
   "metadata": {},
   "source": [
    "Se obtiene el determinante y la inversa de la matriz"
   ]
  },
  {
   "cell_type": "code",
   "execution_count": 14,
   "metadata": {},
   "outputs": [
    {
     "name": "stdout",
     "output_type": "stream",
     "text": [
      "Eigenvalues: [2.00000002 1.99999998]\n",
      "Eigenvectors:\n",
      " [[-0.70710677 -0.70710679]\n",
      " [ 0.70710679  0.70710677]]\n"
     ]
    }
   ],
   "source": [
    "A = np.array([[1, -1], [1, 3]])\n",
    "eigenvalues, eigenvectors = np.linalg.eig(A)\n",
    "print(\"Eigenvalues:\", eigenvalues)\n",
    "print(\"Eigenvectors:\\n\", eigenvectors)\n"
   ]
  },
  {
   "cell_type": "markdown",
   "metadata": {},
   "source": [
    "No lo sé"
   ]
  },
  {
   "cell_type": "code",
   "execution_count": 15,
   "metadata": {},
   "outputs": [
    {
     "name": "stdout",
     "output_type": "stream",
     "text": [
      "Solution: [1. 1.]\n"
     ]
    }
   ],
   "source": [
    "# Solving Linear Equations:\n",
    "A = np.array([[2, 1], [1, 1]])\n",
    "b = np.array([3, 2])\n",
    "solution = np.linalg.solve(A, b)\n",
    "print(\"Solution:\", solution)\n"
   ]
  },
  {
   "cell_type": "markdown",
   "metadata": {},
   "source": [
    "Método para resolver ecuaciones entre matrices, A son las variables y b la igualdad de su respectiva fila."
   ]
  },
  {
   "cell_type": "code",
   "execution_count": 16,
   "metadata": {},
   "outputs": [
    {
     "name": "stdout",
     "output_type": "stream",
     "text": [
      "Final theta: [[4.22215108]\n",
      " [2.96846751]]\n"
     ]
    },
    {
     "data": {
      "image/png": "[encoded data removed]",
      "text/plain": [
       "<Figure size 640x480 with 1 Axes>"
      ]
     },
     "metadata": {},
     "output_type": "display_data"
    }
   ],
   "source": [
    "# Generate some sample data\n",
    "np.random.seed(0)\n",
    "X = 2 * np.random.rand(100, 1)\n",
    "\n",
    "y = 4 + 3 * X + np.random.randn(100, 1)\n",
    "# Add bias term to X\n",
    "X_b = np.c_[np.ones((100, 1)), X]\n",
    "\n",
    "# Hyperparameters\n",
    "learning_rate = 0.1\n",
    "n_iterations = 1000\n",
    "# Initialize the parameters\n",
    "theta = np.random.randn(2, 1)\n",
    "# Gradient Descent\n",
    "for iteration in range(n_iterations):\n",
    "    gradients = 2 / 100 * X_b.T.dot(X_b.dot(theta) - y)\n",
    "    theta = theta - learning_rate * gradients\n",
    "    \n",
    "print(\"Final theta:\", theta)\n",
    "\n",
    "# Predicciones para la línea de regresión\n",
    "X_new = np.array([[0], [2]])\n",
    "X_new_b = np.c_[np.ones((2, 1)), X_new]\n",
    "y_predict = X_new_b.dot(theta)\n",
    "# Graficar\n",
    "plt.plot(X_new, y_predict, \"r-\", label=\"Línea de regresión\")\n",
    "plt.plot(X, y, \"b.\", label=\"Datos\")\n",
    "plt.xlabel(\"X\")\n",
    "plt.ylabel(\"y\")\n",
    "plt.title(\"Regresión lineal con descenso del gradiente\")\n",
    "plt.legend()\n",
    "plt.grid(True)\n",
    "plt.show()"
   ]
  },
  {
   "cell_type": "markdown",
   "metadata": {},
   "source": [
    "Este es el modelo para linearizar los errores mediante pasos pequeños"
   ]
  },
  {
   "cell_type": "code",
   "execution_count": 17,
   "metadata": {},
   "outputs": [
    {
     "name": "stdout",
     "output_type": "stream",
     "text": [
      "Hello, Ana!\n"
     ]
    }
   ],
   "source": [
    "def greet(name):\n",
    "    return \"Hello, \" + name + \"!\"\n",
    "print(greet(\"Ana\"))"
   ]
  },
  {
   "cell_type": "markdown",
   "metadata": {},
   "source": [
    "Utiliza una función con variables locales que solo se ejecuta si es llamada."
   ]
  },
  {
   "cell_type": "code",
   "execution_count": 18,
   "metadata": {},
   "outputs": [
    {
     "name": "stdout",
     "output_type": "stream",
     "text": [
      "12\n"
     ]
    }
   ],
   "source": [
    "def add_numbers(a, b):\n",
    "    sum = a + b\n",
    "    return sum\n",
    "result = add_numbers(5, 7)\n",
    "print(result) \n"
   ]
  },
  {
   "cell_type": "markdown",
   "metadata": {},
   "source": [
    "A través de una función puede realizar una suma."
   ]
  },
  {
   "cell_type": "code",
   "execution_count": 19,
   "metadata": {},
   "outputs": [
    {
     "name": "stdout",
     "output_type": "stream",
     "text": [
      "9\n",
      "8\n"
     ]
    }
   ],
   "source": [
    "def power(base, exponent=2):\n",
    "    return base ** exponent\n",
    "print(power(3)) \n",
    "print(power(2, 3))"
   ]
  },
  {
   "cell_type": "markdown",
   "metadata": {},
   "source": [
    "La función tiene parametros que son indicados al momento de llamarla. Además, los parámetros se pueden inicializar en la propia función."
   ]
  },
  {
   "cell_type": "code",
   "execution_count": 20,
   "metadata": {},
   "outputs": [
    {
     "name": "stdout",
     "output_type": "stream",
     "text": [
      "2 9\n"
     ]
    }
   ],
   "source": [
    "def min_max(numbers):\n",
    "    return min(numbers), max(numbers)\n",
    "nums = [4, 9, 2, 7, 5]\n",
    "minimum, maximum = min_max(nums)\n",
    "print(minimum, maximum)"
   ]
  },
  {
   "cell_type": "markdown",
   "metadata": {},
   "source": [
    "Las funciones pueden retornar más de un valor, en este caso se asigna cada uno a una variable."
   ]
  },
  {
   "cell_type": "code",
   "execution_count": 21,
   "metadata": {},
   "outputs": [
    {
     "name": "stdout",
     "output_type": "stream",
     "text": [
      "15\n"
     ]
    }
   ],
   "source": [
    "def area_of_rectangle(length, width):\n",
    "    \"\"\"\n",
    "Calculates the area of a rectangle.\n",
    "Args:\n",
    "length (float): The length of the rectangle.\n",
    "width (float): The width of the rectangle.\n",
    "Returns:\n",
    "float: The area of the rectangle.\n",
    "\"\"\"\n",
    "    return length * width\n",
    "\n",
    "print(area_of_rectangle(5,3))\n"
   ]
  },
  {
   "cell_type": "markdown",
   "metadata": {},
   "source": [
    "Se halla el área de un rectángulo a partir de una multiplicación"
   ]
  },
  {
   "cell_type": "code",
   "execution_count": 22,
   "metadata": {},
   "outputs": [
    {
     "name": "stdout",
     "output_type": "stream",
     "text": [
      "Buddy is barking!\n",
      "Tonny is barking!\n"
     ]
    }
   ],
   "source": [
    "class Dog:\n",
    "    def __init__(self, name, age):\n",
    "        self.name = name\n",
    "        self.age = age\n",
    "    def bark(self):\n",
    "        print(f\"{self.name} is barking!\")\n",
    "# Create an instance of the Dog class\n",
    "dog1 = Dog(\"Buddy\", 3)\n",
    "dog1.bark() # Output: Buddy is barking!\n",
    "dog2 = Dog(\"Tonny\", 2)\n",
    "dog2.bark()"
   ]
  },
  {
   "cell_type": "markdown",
   "metadata": {},
   "source": [
    "Se realiza una clase perro y luego se definen sus caracteristicas al momento de utilizarlo."
   ]
  },
  {
   "cell_type": "code",
   "execution_count": 23,
   "metadata": {},
   "outputs": [
    {
     "name": "stdout",
     "output_type": "stream",
     "text": [
      "Alice’s average grade: 88.5\n"
     ]
    }
   ],
   "source": [
    "class Student:\n",
    "    def __init__(self, name, age):\n",
    "        self.name = name\n",
    "        self.age = age\n",
    "        self.grades = []\n",
    "    def add_grade(self, grade):\n",
    "        self.grades.append(grade)\n",
    "    def get_average_grade(self):\n",
    "        return sum(self.grades) / len(self.grades)\n",
    "# Create a Student instance and add grades\n",
    "student1 = Student(\"Alice\", 18)\n",
    "student1.add_grade(85)\n",
    "student1.add_grade(92)\n",
    "average_grade = student1.get_average_grade()\n",
    "print(f\"{student1.name}’s average grade: {average_grade}\")"
   ]
  },
  {
   "cell_type": "markdown",
   "metadata": {},
   "source": [
    "A través de una clase se define la nota actual entre las notas ingresadas a partir de las funciones que añaden y operan sus notas"
   ]
  },
  {
   "cell_type": "code",
   "execution_count": 24,
   "metadata": {},
   "outputs": [
    {
     "name": "stdout",
     "output_type": "stream",
     "text": [
      "Whiskers says Meow!\n",
      "Buddy says Woof!\n",
      "<class '__main__.Cat'>\n"
     ]
    }
   ],
   "source": [
    "class Animal:\n",
    "    def __init__(self, name):\n",
    "        self.name = name\n",
    "    def speak(self):\n",
    "        pass # Placeholder for subclasses to override\n",
    "class Cat(Animal):\n",
    "    def speak(self):\n",
    "        print(f\"{self.name} says Meow!\")\n",
    "class Dog(Animal):\n",
    "    def speak(self):\n",
    "        print(f\"{self.name} says Woof!\")\n",
    "# Create instances of Cat and Dog\n",
    "cat = Cat(\"Whiskers\")\n",
    "dog = Dog(\"Buddy\")\n",
    "cat.speak() # Output: Whiskers says Meow!\n",
    "dog.speak() # Output: Buddy says Woof!\n",
    "print(type(cat))"
   ]
  },
  {
   "cell_type": "markdown",
   "metadata": {},
   "source": [
    "Se define la clase base animal y otras clases para cada caracterizar animales (como funciones). Las variables son de tipo clase"
   ]
  },
  {
   "cell_type": "code",
   "execution_count": 25,
   "metadata": {},
   "outputs": [
    {
     "name": "stdout",
     "output_type": "stream",
     "text": [
      "7\n",
      "--------//--------\n",
      "[7 1 9]\n",
      "--------//--------\n",
      "[ 3  7  1 12  5]\n"
     ]
    }
   ],
   "source": [
    "# EXERCISE_1\n",
    "arr = np.array([3, 7, 1, 9, 5])\n",
    "\n",
    "#Point_A\n",
    "print(arr[1])\n",
    "print(\"--------//--------\")\n",
    "#Point_B\n",
    "print(arr[1:4])\n",
    "print(\"--------//--------\")\n",
    "#Point_C\n",
    "arr[3] = 12\n",
    "print(arr)\n"
   ]
  },
  {
   "cell_type": "code",
   "execution_count": 26,
   "metadata": {},
   "outputs": [
    {
     "name": "stdout",
     "output_type": "stream",
     "text": [
      "[[0 1 2]\n",
      " [3 4 5]\n",
      " [6 7 8]]\n",
      "--------//--------\n",
      "5\n",
      "--------//--------\n",
      "[[0 1 2]\n",
      " [3 4 5]]\n"
     ]
    }
   ],
   "source": [
    "#EXERCISE_2\n",
    "matriz = np.arange(9).reshape(3, 3)\n",
    "print(matriz)\n",
    "print(\"--------//--------\")\n",
    "#Point_A\n",
    "print(matriz[1,2])\n",
    "print(\"--------//--------\")\n",
    "#Point_B\n",
    "matriz_2= matriz[:2]\n",
    "print(matriz_2)\n"
   ]
  },
  {
   "cell_type": "code",
   "execution_count": 27,
   "metadata": {},
   "outputs": [
    {
     "name": "stdout",
     "output_type": "stream",
     "text": [
      "[[[ 0  1  2  3]\n",
      "  [ 4  5  6  7]\n",
      "  [ 8  9 10 11]]\n",
      "\n",
      " [[12 13 14 15]\n",
      "  [16 17 18 19]\n",
      "  [20 21 22 23]]\n",
      "\n",
      " [[24 25 26 27]\n",
      "  [28 29 30 31]\n",
      "  [32 33 34 35]]]\n",
      "--------//--------\n",
      "14\n",
      "--------//--------\n",
      "[[12 13 14 15]\n",
      " [16 17 18 19]\n",
      " [20 21 22 23]]\n",
      "--------//--------\n",
      "[[20 21 22 23]\n",
      " [32 33 34 35]]\n",
      "--------//--------\n",
      "31\n",
      "--------//--------\n",
      "[[ 0  1  2  3]\n",
      " [12 13 14 15]]\n"
     ]
    }
   ],
   "source": [
    "tensor = np.arange(36).reshape(3,3,4)\n",
    "print(tensor)\n",
    "print(\"--------//--------\")\n",
    "#Point_A\n",
    "print(tensor[1,0,2])\n",
    "print(\"--------//--------\")\n",
    "\n",
    "#Point_B\n",
    "print(tensor[1])\n",
    "print(\"--------//--------\")\n",
    "\n",
    "#Point_C\n",
    "tensor_1 = tensor[1:,2]\n",
    "print(tensor_1)\n",
    "print(\"--------//--------\")\n",
    "\n",
    "#Point_D\n",
    "print(tensor[2,1,3] )\n",
    "print(\"--------//--------\")\n",
    "\n",
    "#Point E\n",
    "tensor_2 = tensor[:2,0]\n",
    "print(tensor_2)"
   ]
  },
  {
   "cell_type": "markdown",
   "metadata": {},
   "source": [
    "# EXERCISE 3.3"
   ]
  },
  {
   "cell_type": "code",
   "execution_count": 28,
   "metadata": {},
   "outputs": [
    {
     "name": "stdout",
     "output_type": "stream",
     "text": [
      "5.33\n"
     ]
    }
   ],
   "source": [
    "def calculate_average(list):\n",
    "    a = 0\n",
    "    for i in list:\n",
    "        a += i\n",
    "    a = a/len(list)\n",
    "    return a\n",
    "\n",
    "print(round(calculate_average([2,5,9]),2))"
   ]
  },
  {
   "cell_type": "code",
   "execution_count": 29,
   "metadata": {},
   "outputs": [
    {
     "name": "stdout",
     "output_type": "stream",
     "text": [
      "27\n"
     ]
    }
   ],
   "source": [
    "def find_power(number, pow=2):\n",
    "    a = number**pow\n",
    "    return a\n",
    "\n",
    "print(find_power(3,3))"
   ]
  },
  {
   "cell_type": "markdown",
   "metadata": {},
   "source": [
    "# Exercise 3.4"
   ]
  },
  {
   "cell_type": "code",
   "execution_count": 30,
   "metadata": {},
   "outputs": [
    {
     "name": "stdout",
     "output_type": "stream",
     "text": [
      "Final theta: [0.75169164 2.48568225]\n",
      "1.8687618665462773\n"
     ]
    },
    {
     "data": {
      "image/png": "[encoded data removed]",
      "text/plain": [
       "<Figure size 640x480 with 1 Axes>"
      ]
     },
     "metadata": {},
     "output_type": "display_data"
    }
   ],
   "source": [
    "# Generate some sample data\n",
    "np.random.seed(0)\n",
    "X = [1,2,3,4,5]\n",
    "y = [3,6,8,11,13]\n",
    "# Add bias term to X\n",
    "X_b = np.c_[np.ones((5, 1)), X]\n",
    "\n",
    "# Hyperparameters\n",
    "learning_rate = 0.01\n",
    "n_iterations = 1000\n",
    "# Initialize the parameters\n",
    "theta = np.random.randn(2)\n",
    "# Gradient Descent\n",
    "\n",
    "theta_0=[]\n",
    "theta_1=[]\n",
    "for iteration in range(n_iterations):\n",
    "    gradients = 2 / 5 * X_b.T.dot(X_b.dot(theta) - y)\n",
    "    theta = theta - learning_rate * gradients\n",
    "    theta_0.append(theta[0])\n",
    "    theta_1.append(theta[1])\n",
    "    \n",
    "print(\"Final theta:\", theta)\n",
    "print(theta_0[0])\n",
    "# Predicciones para la línea de regresión\n",
    "X_new = np.array([[0], [5]])\n",
    "X_new_b = np.c_[np.ones((2, 1)), X_new]\n",
    "y_predict = X_new_b.dot(theta)\n",
    "# Graficar\n",
    "plt.plot(X_new, y_predict, \"r-\", label=\"Línea de regresión\")\n",
    "plt.plot(X, y, \"b.\", label=\"Datos\")\n",
    "plt.xlabel(\"X\")\n",
    "plt.ylabel(\"y\")\n",
    "plt.title(\"Regresión lineal con descenso del gradiente\")\n",
    "plt.legend()\n",
    "plt.grid(True)\n",
    "plt.show()"
   ]
  },
  {
   "cell_type": "code",
   "execution_count": null,
   "metadata": {},
   "outputs": [
    {
     "data": {
      "image/png": "[encoded data removed]",
      "text/plain": [
       "<Figure size 640x480 with 1 Axes>"
      ]
     },
     "metadata": {},
     "output_type": "display_data"
    }
   ],
   "source": [
    "plt.plot(theta_0, label=r'$\\theta_0$')\n",
    "plt.plot(theta_1, label=r'$\\theta_1$')\n",
    "plt.xlabel(\"Iteración\")\n",
    "plt.ylabel(\"Valor de theta\")\n",
    "plt.title(\"Evolución de parámetros durante descenso de gradiente\")\n",
    "plt.legend()\n",
    "plt.grid(True)\n",
    "\n",
    "plt.tight_layout()\n",
    "plt.show()"
   ]
  }
 ],
 "metadata": {
  "kernelspec": {
   "display_name": "Python 3",
   "language": "python",
   "name": "python3"
  },
  "language_info": {
   "codemirror_mode": {
    "name": "ipython",
    "version": 3
   },
   "file_extension": ".py",
   "mimetype": "text/x-python",
   "name": "python",
   "nbconvert_exporter": "python",
   "pygments_lexer": "ipython3",
   "version": "3.13.1"
  }
 },
 "nbformat": 4,
 "nbformat_minor": 2
}
